{
 "cells": [
  {
   "cell_type": "code",
   "execution_count": 19,
   "id": "7bcb7cd4",
   "metadata": {},
   "outputs": [],
   "source": [
    "import sys\n",
    "import os\n",
    "sys.path.append(\"../src\")\n",
    "from utils import select_model, get_dataset, low_density_anomalies"
   ]
  },
  {
   "cell_type": "code",
   "execution_count": 20,
   "id": "b56a811f",
   "metadata": {},
   "outputs": [],
   "source": [
    "experiment_path = \"../results/epoch_budget/DTEC_DSIL_deterministic_0.5_s0_T400_bins7/18_Ionosphere\"\n",
    "experiment_config = os.path.join(experiment_path, \"experiment_config.yaml\")\n",
    "\n",
    "from hydra import initialize, compose\n",
    "import torch\n",
    "from pathlib import Path\n",
    "import yaml"
   ]
  },
  {
   "cell_type": "code",
   "execution_count": 21,
   "id": "f2e5aa7c",
   "metadata": {},
   "outputs": [],
   "source": [
    "def load_model_and_dataset_from_path(experiment_path, X):\n",
    "    cfg_experiment_path = Path(f\"{experiment_path}/experiment_config.yaml\")\n",
    "    model_path = f\"{experiment_path}/model.pth\"\n",
    "\n",
    "    with initialize(config_path=str(experiment_path), version_base=None):\n",
    "        cfg = compose(config_name=cfg_experiment_path.name)\n",
    "\n",
    "    model = select_model(cfg.model, device=\"cuda:0\" if torch.cuda.is_available() else \"cpu\")\n",
    "    model.load_model(model_path, X)\n",
    "    return model, cfg "
   ]
  },
  {
   "cell_type": "code",
   "execution_count": 22,
   "id": "8d89bffd",
   "metadata": {},
   "outputs": [],
   "source": [
    "def load_dataset(experiment_path):\n",
    "    cfg_experiment_path = Path(f\"{experiment_path}/experiment_config.yaml\")\n",
    "    # Load as yaml\n",
    "    with open(cfg_experiment_path, 'r') as stream:\n",
    "        config = yaml.safe_load(stream)\n",
    "        if 'dataset_path' in config['dataset'].keys():\n",
    "            config['dataset']['dataset_path']   = \"../\" +  config['dataset']['dataset_path']\n",
    "        else:   \n",
    "            config['dataset']['dataset_path']   = \"../\" +  config['dataset']['data_path']\n",
    "\n",
    "    with initialize(config_path=str(experiment_path), version_base=None):\n",
    "        cfg = compose(config_name=cfg_experiment_path.name)\n",
    "    dataset = get_dataset(cfg)\n",
    "    return dataset"
   ]
  },
  {
   "cell_type": "code",
   "execution_count": 23,
   "id": "0a8a9ca6",
   "metadata": {},
   "outputs": [
    {
     "name": "stdout",
     "output_type": "stream",
     "text": [
      "generating duplicate samples for dataset 18_Ionosphere...\n",
      "{'Samples': 1000, 'Features': 32, 'Anomalies': 339, 'Anomalies Ratio(%)': 33.9}\n"
     ]
    }
   ],
   "source": [
    "\n",
    "dataset = load_dataset(experiment_path)\n",
    "model, cfg = load_model_and_dataset_from_path(experiment_path, dataset['X_train'])"
   ]
  },
  {
   "cell_type": "code",
   "execution_count": 24,
   "id": "9f9bca90",
   "metadata": {},
   "outputs": [
    {
     "data": {
      "text/plain": [
       "array([[-1.31547343, -0.06933104, -1.22675975, ...,  1.95154   ,\n",
       "        -0.71997719, -0.0683503 ],\n",
       "       [ 0.62245261, -0.13114821, -3.22847631, ...,  0.37796339,\n",
       "        -0.84339789,  0.84201884],\n",
       "       [-1.31547343, -0.06933104, -1.22675975, ..., -0.56313922,\n",
       "        -1.11931389, -2.10464231],\n",
       "       ...,\n",
       "       [ 0.10715005,  0.8260163 , -1.22675975, ..., -0.02722917,\n",
       "        -0.71997719, -0.0683503 ],\n",
       "       [-0.2720851 , -2.2334152 ,  0.77495682, ...,  0.43160783,\n",
       "        -0.71997719, -0.0683503 ],\n",
       "       [-1.31547343, -0.06933104, -1.22675975, ..., -0.02722917,\n",
       "        -0.71997719, -0.0683503 ]])"
      ]
     },
     "execution_count": 24,
     "metadata": {},
     "output_type": "execute_result"
    }
   ],
   "source": [
    "# Get anomaly score of every samples\n",
    "def get_anomaly_score(model, X):\n",
    "    model.model.eval()\n",
    "    with torch.no_grad():\n",
    "        X = torch.from_numpy(X).float()\n",
    "        X = X.to(model.device)\n",
    "        anomaly_score = model.predict_score(X)\n",
    "    return anomaly_score\n",
    "\n",
    "anomaly_scores = get_anomaly_score(model, dataset['X_test'])\n",
    "y_pred = low_density_anomalies(-anomaly_scores, num_anomalies=dataset['y_test'].sum())\n",
    " # Get intersection between prediction and ground truth, both are 1 array of 0 and 1\n",
    "true_positive_indices = (y_pred == 1) & (dataset['y_test'] == 1)\n",
    "data_to_explain = dataset['X_test'][true_positive_indices]\n",
    "data_to_explain"
   ]
  },
  {
   "cell_type": "code",
   "execution_count": 25,
   "id": "6860c461",
   "metadata": {},
   "outputs": [
    {
     "name": "stdout",
     "output_type": "stream",
     "text": [
      "AUCROC: 0.9208270297528997\n"
     ]
    }
   ],
   "source": [
    "from sklearn.metrics import precision_score, recall_score, f1_score\n",
    "from adbench.myutils import Utils\n",
    "utils = Utils()\n",
    "f1_score = f1_score(dataset['y_test'], y_pred)\n",
    "result = utils.metric(y_true=dataset['y_test'], y_score=anomaly_scores)\n",
    "print(f'AUCROC: {result[\"aucroc\"]}')"
   ]
  },
  {
   "cell_type": "code",
   "execution_count": 26,
   "id": "b31131d8",
   "metadata": {},
   "outputs": [
    {
     "data": {
      "text/plain": [
       "(271, 32)"
      ]
     },
     "execution_count": 26,
     "metadata": {},
     "output_type": "execute_result"
    }
   ],
   "source": [
    "data_to_explain.shape"
   ]
  },
  {
   "cell_type": "code",
   "execution_count": 27,
   "id": "fd1c5eb9",
   "metadata": {},
   "outputs": [],
   "source": [
    "from shap import KernelExplainer\n",
    "import shap\n",
    "import numpy as np"
   ]
  },
  {
   "cell_type": "code",
   "execution_count": 28,
   "id": "84cf1edc",
   "metadata": {},
   "outputs": [],
   "source": [
    "# Take on random sample from the dataset\n",
    "import random\n",
    "import numpy as np\n",
    "from tqdm.notebook import tqdm\n",
    "\n",
    "explainer= KernelExplainer(model.predict_score, data=np.zeros((1, dataset['X_test'].shape[1])), silent=True)\n",
    "shap_expl = explainer.shap_values(data_to_explain, nsamples=50, show_progress=False, silent=True)\n",
    "\n",
    "step=20\n",
    "w_explanations = np.array(model.instance_explanation(data_to_explain, agg=\"weighted_mean\", step=step))\n",
    "mean_explanations = np.array(model.instance_explanation(data_to_explain, agg=\"mean\", step=step))\n",
    "max_explanations  = np.array(model.instance_explanation(data_to_explain, agg=\"max\", step=step))\n",
    "\n"
   ]
  },
  {
   "cell_type": "code",
   "execution_count": 29,
   "id": "e836f2d1",
   "metadata": {},
   "outputs": [
    {
     "data": {
      "text/plain": [
       "(271, 32)"
      ]
     },
     "execution_count": 29,
     "metadata": {},
     "output_type": "execute_result"
    }
   ],
   "source": [
    "shap_expl = np.array(shap_expl)\n",
    "shap_expl.shape"
   ]
  },
  {
   "cell_type": "code",
   "execution_count": 30,
   "id": "5ea4392c",
   "metadata": {},
   "outputs": [],
   "source": [
    "def infidelity(x, model, attribution, num_samples=50, delta_std=0.01):\n",
    "    x= x.reshape(1, -1)\n",
    "    attribution = attribution.reshape(1, -1)\n",
    "    # Scale so that the sum is 1\n",
    "    attribution = attribution / np.sum(attribution)\n",
    "    n_features = x.shape[1]\n",
    "    f_x = model.predict_score(x)\n",
    "    infidelities = []\n",
    "    for _ in range(num_samples):\n",
    "        delta = np.random.normal(0, delta_std, size=(1, n_features))\n",
    "        f_x_delta = model.predict_score(x - delta)\n",
    "        dot = np.dot(delta.T, attribution)\n",
    "        error = (dot - f_x + f_x_delta)**2\n",
    "        infidelities.append(error)\n",
    "    return np.mean(infidelities)"
   ]
  },
  {
   "cell_type": "code",
   "execution_count": 31,
   "id": "1459e28d",
   "metadata": {},
   "outputs": [
    {
     "data": {
      "text/plain": [
       "271"
      ]
     },
     "execution_count": 31,
     "metadata": {},
     "output_type": "execute_result"
    }
   ],
   "source": [
    "len(data_to_explain)"
   ]
  },
  {
   "cell_type": "code",
   "execution_count": 32,
   "id": "1fc60f83",
   "metadata": {},
   "outputs": [
    {
     "data": {
      "application/vnd.jupyter.widget-view+json": {
       "model_id": "c5f17e0c381e412493874029007cb658",
       "version_major": 2,
       "version_minor": 0
      },
      "text/plain": [
       "  0%|          | 0/271 [00:00<?, ?it/s]"
      ]
     },
     "metadata": {},
     "output_type": "display_data"
    },
    {
     "data": {
      "text/plain": [
       "(0.00013624108206129908,\n",
       " 0.00013713608048050786,\n",
       " 0.0001371944278633429,\n",
       " 0.00014189677705700476)"
      ]
     },
     "execution_count": 32,
     "metadata": {},
     "output_type": "execute_result"
    }
   ],
   "source": [
    "inf_our_list = []\n",
    "inf_shap_list = []\n",
    "inf_mean_list = []\n",
    "inf_max_list = []\n",
    "for i in tqdm(range(len(data_to_explain))):\n",
    "    x_i = data_to_explain[i,:]\n",
    "    inf_our_list.append(infidelity(x_i, model, w_explanations[i], num_samples=100, delta_std=0.01))\n",
    "    inf_shap_list.append(infidelity(x_i, model, shap_expl[i], num_samples=100, delta_std=0.01))\n",
    "    inf_mean_list.append(infidelity(x_i, model, mean_explanations[i], num_samples=100, delta_std=0.01))\n",
    "    inf_max_list.append(infidelity(x_i, model, max_explanations[i], num_samples=100, delta_std=0.01))\n",
    "inf_our_list = np.array(inf_our_list)\n",
    "inf_shap_list = np.array(inf_shap_list)\n",
    "inf_mean_list = np.array(inf_mean_list)\n",
    "inf_max_list = np.array(inf_max_list)\n",
    "inf_our_list.mean(), inf_max_list.mean(), inf_mean_list.mean(), inf_shap_list.mean()"
   ]
  },
  {
   "cell_type": "code",
   "execution_count": 33,
   "id": "7dc33662",
   "metadata": {},
   "outputs": [],
   "source": [
    "import os\n",
    "import pandas as pd\n",
    "dataset_name = experiment_path.split(\"/\")[-1]\n",
    "inf_our_list = pd.DataFrame(inf_our_list, columns=[\"inf_our\"])\n",
    "inf_shap_list = pd.DataFrame(inf_shap_list, columns=[\"inf_shap\"])\n",
    "inf_mean_list = pd.DataFrame(inf_mean_list, columns=[\"inf_mean\"])\n",
    "inf_max_list = pd.DataFrame(inf_max_list, columns=[\"inf_max\"])\n",
    "inf_list = pd.concat([inf_our_list, inf_shap_list, inf_mean_list, inf_max_list], axis=1)\n",
    "inf_list.to_csv(os.path.join(f\"infidelity_{dataset_name}.csv\"), index=False)"
   ]
  },
  {
   "cell_type": "code",
   "execution_count": 34,
   "id": "decb6e42",
   "metadata": {},
   "outputs": [
    {
     "data": {
      "text/plain": [
       "array([5.98060996])"
      ]
     },
     "execution_count": 34,
     "metadata": {},
     "output_type": "execute_result"
    }
   ],
   "source": [
    "model.predict_score(data_to_explain[0,:].reshape(1, -1))"
   ]
  },
  {
   "cell_type": "code",
   "execution_count": null,
   "id": "be0f71bd",
   "metadata": {},
   "outputs": [
    {
     "data": {
      "application/vnd.jupyter.widget-view+json": {
       "model_id": "424537fd2d5b492896daacd978f68df6",
       "version_major": 2,
       "version_minor": 0
      },
      "text/plain": [
       "  0%|          | 0/271 [00:00<?, ?it/s]"
      ]
     },
     "metadata": {},
     "output_type": "display_data"
    },
    {
     "data": {
      "application/vnd.jupyter.widget-view+json": {
       "model_id": "79184b6fca704de68138c31e2606466b",
       "version_major": 2,
       "version_minor": 0
      },
      "text/plain": [
       "  0%|          | 0/271 [00:00<?, ?it/s]"
      ]
     },
     "metadata": {},
     "output_type": "display_data"
    },
    {
     "data": {
      "application/vnd.jupyter.widget-view+json": {
       "model_id": "74e580102d3443868a4726963bf52186",
       "version_major": 2,
       "version_minor": 0
      },
      "text/plain": [
       "  0%|          | 0/271 [00:00<?, ?it/s]"
      ]
     },
     "metadata": {},
     "output_type": "display_data"
    },
    {
     "data": {
      "application/vnd.jupyter.widget-view+json": {
       "model_id": "1709062b389c4f378268e67006985fbd",
       "version_major": 2,
       "version_minor": 0
      },
      "text/plain": [
       "  0%|          | 0/271 [00:00<?, ?it/s]"
      ]
     },
     "metadata": {},
     "output_type": "display_data"
    },
    {
     "name": "stdout",
     "output_type": "stream",
     "text": [
      "k: 3, {'shap': 0.3564152155796831, 'mean': 0.6981671608715982, 'max': 0.5844218251671052, 'our': 0.6924738714016773}\n"
     ]
    },
    {
     "data": {
      "application/vnd.jupyter.widget-view+json": {
       "model_id": "7a2250783a734b8886b3036b5d70ca7c",
       "version_major": 2,
       "version_minor": 0
      },
      "text/plain": [
       "  0%|          | 0/271 [00:00<?, ?it/s]"
      ]
     },
     "metadata": {},
     "output_type": "display_data"
    },
    {
     "data": {
      "application/vnd.jupyter.widget-view+json": {
       "model_id": "a3835ccf16204b4181b91a79f4b1ce1b",
       "version_major": 2,
       "version_minor": 0
      },
      "text/plain": [
       "  0%|          | 0/271 [00:00<?, ?it/s]"
      ]
     },
     "metadata": {},
     "output_type": "display_data"
    },
    {
     "data": {
      "application/vnd.jupyter.widget-view+json": {
       "model_id": "4562f349ba114d558d4e41362057e5d1",
       "version_major": 2,
       "version_minor": 0
      },
      "text/plain": [
       "  0%|          | 0/271 [00:00<?, ?it/s]"
      ]
     },
     "metadata": {},
     "output_type": "display_data"
    },
    {
     "data": {
      "application/vnd.jupyter.widget-view+json": {
       "model_id": "e41e71824791428c94199a00fd0fb0b5",
       "version_major": 2,
       "version_minor": 0
      },
      "text/plain": [
       "  0%|          | 0/271 [00:00<?, ?it/s]"
      ]
     },
     "metadata": {},
     "output_type": "display_data"
    },
    {
     "name": "stdout",
     "output_type": "stream",
     "text": [
      "k: 5, {'shap': 0.36703839433513186, 'mean': 0.6486167071688503, 'max': 0.5368443602406564, 'our': 0.6549995070306396}\n"
     ]
    },
    {
     "data": {
      "application/vnd.jupyter.widget-view+json": {
       "model_id": "83d507057c504843a35a4c6e071a71c6",
       "version_major": 2,
       "version_minor": 0
      },
      "text/plain": [
       "  0%|          | 0/271 [00:00<?, ?it/s]"
      ]
     },
     "metadata": {},
     "output_type": "display_data"
    },
    {
     "data": {
      "application/vnd.jupyter.widget-view+json": {
       "model_id": "917bf0d2588b4b04bc9027f8e6dd74f1",
       "version_major": 2,
       "version_minor": 0
      },
      "text/plain": [
       "  0%|          | 0/271 [00:00<?, ?it/s]"
      ]
     },
     "metadata": {},
     "output_type": "display_data"
    },
    {
     "data": {
      "application/vnd.jupyter.widget-view+json": {
       "model_id": "5135cb1a21a44886b5e8704df89623a4",
       "version_major": 2,
       "version_minor": 0
      },
      "text/plain": [
       "  0%|          | 0/271 [00:00<?, ?it/s]"
      ]
     },
     "metadata": {},
     "output_type": "display_data"
    },
    {
     "data": {
      "application/vnd.jupyter.widget-view+json": {
       "model_id": "cd680d22377a4a9d97db8ce07c00f05e",
       "version_major": 2,
       "version_minor": 0
      },
      "text/plain": [
       "  0%|          | 0/271 [00:00<?, ?it/s]"
      ]
     },
     "metadata": {},
     "output_type": "display_data"
    },
    {
     "name": "stdout",
     "output_type": "stream",
     "text": [
      "k: 7, {'shap': 0.34920954031559975, 'mean': 0.6094757096906744, 'max': 0.511458975488447, 'our': 0.6214765404487361}\n"
     ]
    },
    {
     "data": {
      "application/vnd.jupyter.widget-view+json": {
       "model_id": "e56c892324bc4ba2bb65eeb65363d807",
       "version_major": 2,
       "version_minor": 0
      },
      "text/plain": [
       "  0%|          | 0/271 [00:00<?, ?it/s]"
      ]
     },
     "metadata": {},
     "output_type": "display_data"
    },
    {
     "data": {
      "application/vnd.jupyter.widget-view+json": {
       "model_id": "86e9f0303c194ef19f0042e16130e236",
       "version_major": 2,
       "version_minor": 0
      },
      "text/plain": [
       "  0%|          | 0/271 [00:00<?, ?it/s]"
      ]
     },
     "metadata": {},
     "output_type": "display_data"
    },
    {
     "data": {
      "application/vnd.jupyter.widget-view+json": {
       "model_id": "7622bc5f0ec043279244d5e86f39aac3",
       "version_major": 2,
       "version_minor": 0
      },
      "text/plain": [
       "  0%|          | 0/271 [00:00<?, ?it/s]"
      ]
     },
     "metadata": {},
     "output_type": "display_data"
    },
    {
     "data": {
      "application/vnd.jupyter.widget-view+json": {
       "model_id": "dc9842676a5d478e8bf169f559cc342c",
       "version_major": 2,
       "version_minor": 0
      },
      "text/plain": [
       "  0%|          | 0/271 [00:00<?, ?it/s]"
      ]
     },
     "metadata": {},
     "output_type": "display_data"
    },
    {
     "name": "stdout",
     "output_type": "stream",
     "text": [
      "k: 9, {'shap': 0.3667236212195725, 'mean': 0.5831057194769506, 'max': 0.4752935562004571, 'our': 0.5831238866102905}\n"
     ]
    },
    {
     "data": {
      "application/vnd.jupyter.widget-view+json": {
       "model_id": "5d2f7f7b29c245e48f01f625e3c45955",
       "version_major": 2,
       "version_minor": 0
      },
      "text/plain": [
       "  0%|          | 0/271 [00:00<?, ?it/s]"
      ]
     },
     "metadata": {},
     "output_type": "display_data"
    },
    {
     "data": {
      "application/vnd.jupyter.widget-view+json": {
       "model_id": "40d7555e163b402b9cdc740d3ec57719",
       "version_major": 2,
       "version_minor": 0
      },
      "text/plain": [
       "  0%|          | 0/271 [00:00<?, ?it/s]"
      ]
     },
     "metadata": {},
     "output_type": "display_data"
    },
    {
     "data": {
      "application/vnd.jupyter.widget-view+json": {
       "model_id": "354ab22d2e0343c4a610586f1edf6163",
       "version_major": 2,
       "version_minor": 0
      },
      "text/plain": [
       "  0%|          | 0/271 [00:00<?, ?it/s]"
      ]
     },
     "metadata": {},
     "output_type": "display_data"
    },
    {
     "data": {
      "application/vnd.jupyter.widget-view+json": {
       "model_id": "3dc7f9e3bcba49948fb3ab59da435930",
       "version_major": 2,
       "version_minor": 0
      },
      "text/plain": [
       "  0%|          | 0/271 [00:00<?, ?it/s]"
      ]
     },
     "metadata": {},
     "output_type": "display_data"
    },
    {
     "name": "stdout",
     "output_type": "stream",
     "text": [
      "k: 11, {'shap': 0.37303449996525573, 'mean': 0.5559125919356586, 'max': 0.4586934032312285, 'our': 0.5649444125792887}\n"
     ]
    },
    {
     "data": {
      "application/vnd.jupyter.widget-view+json": {
       "model_id": "2cf8da4ca4864b69996cf9de4c83f234",
       "version_major": 2,
       "version_minor": 0
      },
      "text/plain": [
       "  0%|          | 0/271 [00:00<?, ?it/s]"
      ]
     },
     "metadata": {},
     "output_type": "display_data"
    },
    {
     "data": {
      "application/vnd.jupyter.widget-view+json": {
       "model_id": "4c81a5bc8e0b4ef1b866e472a7a11280",
       "version_major": 2,
       "version_minor": 0
      },
      "text/plain": [
       "  0%|          | 0/271 [00:00<?, ?it/s]"
      ]
     },
     "metadata": {},
     "output_type": "display_data"
    },
    {
     "data": {
      "application/vnd.jupyter.widget-view+json": {
       "model_id": "298e16f6e4d4441196745ece7e365aea",
       "version_major": 2,
       "version_minor": 0
      },
      "text/plain": [
       "  0%|          | 0/271 [00:00<?, ?it/s]"
      ]
     },
     "metadata": {},
     "output_type": "display_data"
    },
    {
     "data": {
      "application/vnd.jupyter.widget-view+json": {
       "model_id": "f3000c2db52344599bfa3691d77f4783",
       "version_major": 2,
       "version_minor": 0
      },
      "text/plain": [
       "  0%|          | 0/271 [00:00<?, ?it/s]"
      ]
     },
     "metadata": {},
     "output_type": "display_data"
    },
    {
     "name": "stdout",
     "output_type": "stream",
     "text": [
      "k: 13, {'shap': 0.3758745362865846, 'mean': 0.5337193108764521, 'max': 0.4429955472376341, 'our': 0.5260343554656497}\n"
     ]
    },
    {
     "data": {
      "application/vnd.jupyter.widget-view+json": {
       "model_id": "b151697e455341f294ea84ad5555163a",
       "version_major": 2,
       "version_minor": 0
      },
      "text/plain": [
       "  0%|          | 0/271 [00:00<?, ?it/s]"
      ]
     },
     "metadata": {},
     "output_type": "display_data"
    },
    {
     "data": {
      "application/vnd.jupyter.widget-view+json": {
       "model_id": "074ec3f93e914cb0a888db26b4cbf27c",
       "version_major": 2,
       "version_minor": 0
      },
      "text/plain": [
       "  0%|          | 0/271 [00:00<?, ?it/s]"
      ]
     },
     "metadata": {},
     "output_type": "display_data"
    },
    {
     "data": {
      "application/vnd.jupyter.widget-view+json": {
       "model_id": "7b2365ceefeb458a9aee3b08a14299a0",
       "version_major": 2,
       "version_minor": 0
      },
      "text/plain": [
       "  0%|          | 0/271 [00:00<?, ?it/s]"
      ]
     },
     "metadata": {},
     "output_type": "display_data"
    },
    {
     "data": {
      "application/vnd.jupyter.widget-view+json": {
       "model_id": "8754a25d9a2b461c9bec90a5c732fa42",
       "version_major": 2,
       "version_minor": 0
      },
      "text/plain": [
       "  0%|          | 0/271 [00:00<?, ?it/s]"
      ]
     },
     "metadata": {},
     "output_type": "display_data"
    },
    {
     "name": "stdout",
     "output_type": "stream",
     "text": [
      "k: 15, {'shap': 0.398499342090926, 'mean': 0.5093277482432855, 'max': 0.4218176770030802, 'our': 0.5083314764209138}\n"
     ]
    },
    {
     "data": {
      "application/vnd.jupyter.widget-view+json": {
       "model_id": "86df44e1d2124c9faa93fd188f0c3554",
       "version_major": 2,
       "version_minor": 0
      },
      "text/plain": [
       "  0%|          | 0/271 [00:00<?, ?it/s]"
      ]
     },
     "metadata": {},
     "output_type": "display_data"
    },
    {
     "data": {
      "application/vnd.jupyter.widget-view+json": {
       "model_id": "0511390eeb514363802bce755e2c7f14",
       "version_major": 2,
       "version_minor": 0
      },
      "text/plain": [
       "  0%|          | 0/271 [00:00<?, ?it/s]"
      ]
     },
     "metadata": {},
     "output_type": "display_data"
    },
    {
     "data": {
      "application/vnd.jupyter.widget-view+json": {
       "model_id": "9a9bfdc00b8a45128b91993f9827878c",
       "version_major": 2,
       "version_minor": 0
      },
      "text/plain": [
       "  0%|          | 0/271 [00:00<?, ?it/s]"
      ]
     },
     "metadata": {},
     "output_type": "display_data"
    },
    {
     "data": {
      "application/vnd.jupyter.widget-view+json": {
       "model_id": "7ab6fc7ba0ca48d39b71b57e389a55a8",
       "version_major": 2,
       "version_minor": 0
      },
      "text/plain": [
       "  0%|          | 0/271 [00:00<?, ?it/s]"
      ]
     },
     "metadata": {},
     "output_type": "display_data"
    },
    {
     "name": "stdout",
     "output_type": "stream",
     "text": [
      "k: 17, {'shap': 0.4146366459284928, 'mean': 0.49128910706683515, 'max': 0.40110407231320316, 'our': 0.49645685831645414}\n"
     ]
    },
    {
     "data": {
      "application/vnd.jupyter.widget-view+json": {
       "model_id": "63ed92c56f454f0899356c17b6892c84",
       "version_major": 2,
       "version_minor": 0
      },
      "text/plain": [
       "  0%|          | 0/271 [00:00<?, ?it/s]"
      ]
     },
     "metadata": {},
     "output_type": "display_data"
    },
    {
     "data": {
      "application/vnd.jupyter.widget-view+json": {
       "model_id": "6d0f2eaef5594bbeb9f02e01f9dadb50",
       "version_major": 2,
       "version_minor": 0
      },
      "text/plain": [
       "  0%|          | 0/271 [00:00<?, ?it/s]"
      ]
     },
     "metadata": {},
     "output_type": "display_data"
    },
    {
     "data": {
      "application/vnd.jupyter.widget-view+json": {
       "model_id": "8fedc3ef0f514bd69302e042bcbff854",
       "version_major": 2,
       "version_minor": 0
      },
      "text/plain": [
       "  0%|          | 0/271 [00:00<?, ?it/s]"
      ]
     },
     "metadata": {},
     "output_type": "display_data"
    },
    {
     "data": {
      "application/vnd.jupyter.widget-view+json": {
       "model_id": "759c940a24c14561aaab7e5d23aa67e3",
       "version_major": 2,
       "version_minor": 0
      },
      "text/plain": [
       "  0%|          | 0/271 [00:00<?, ?it/s]"
      ]
     },
     "metadata": {},
     "output_type": "display_data"
    },
    {
     "name": "stdout",
     "output_type": "stream",
     "text": [
      "k: 19, {'shap': 0.4352630444017832, 'mean': 0.4760487843106983, 'max': 0.408184090605558, 'our': 0.4771817793811274}\n"
     ]
    },
    {
     "data": {
      "application/vnd.jupyter.widget-view+json": {
       "model_id": "5019e56547984bf3980ec1ad30d6f836",
       "version_major": 2,
       "version_minor": 0
      },
      "text/plain": [
       "  0%|          | 0/271 [00:00<?, ?it/s]"
      ]
     },
     "metadata": {},
     "output_type": "display_data"
    },
    {
     "data": {
      "application/vnd.jupyter.widget-view+json": {
       "model_id": "6ef5a6f5fec24631bd04b9d3074bff13",
       "version_major": 2,
       "version_minor": 0
      },
      "text/plain": [
       "  0%|          | 0/271 [00:00<?, ?it/s]"
      ]
     },
     "metadata": {},
     "output_type": "display_data"
    }
   ],
   "source": [
    "from scipy.stats import pearsonr\n",
    "\n",
    "def faithfulness(f, g, x, x_baseline, subset_size=5, num_samples=100):\n",
    "    d = x.shape[0]\n",
    "    attributions = g(x)  # Vector of shape (d,)\n",
    "\n",
    "    attr_sums = []\n",
    "    output_diffs = []\n",
    "\n",
    "    for _ in range(num_samples):\n",
    "        # Randomly select a subset of feature indices\n",
    "        S = np.random.choice(d, size=subset_size, replace=False)\n",
    "\n",
    "        # Attribution sum over S\n",
    "        sum_attr = np.sum(attributions[S])\n",
    "\n",
    "        # Create x with features in S replaced by baseline values\n",
    "        x_masked = x.copy()\n",
    "        x_masked[S] = x_baseline[S]\n",
    "\n",
    "        # Difference in model output\n",
    "        delta_f = f(x.reshape(1, -1)) - f(x_masked.reshape(1, -1))\n",
    "\n",
    "        attr_sums.append(sum_attr)\n",
    "        output_diffs.append(delta_f)\n",
    "    attr_sums = np.array(attr_sums)\n",
    "    output_diffs = np.array(output_diffs)\n",
    "    # Compute Pearson correlation between attribution sums and output differences\n",
    "    corr, _ = pearsonr(attr_sums, output_diffs.squeeze())\n",
    "    # Replace NaN with 0\n",
    "    if np.isnan(corr):\n",
    "        corr = 0\n",
    "    return corr\n",
    "\n",
    "x_baseline = np.zeros((dataset['X_test'].shape[1]))\n",
    "\n",
    "import pandas as pd\n",
    "faithfulness_df = pd.DataFrame()\n",
    "import warnings\n",
    "warnings.filterwarnings(\"ignore\")\n",
    "warnings.filterwarnings(\"ignore\", category=UserWarning, module=\"shap\")\n",
    "for k in range(3,dataset['X_train'].shape[1], 2):\n",
    "    result = {}\n",
    "    for explanation_method in ['shap' , 'mean', 'max', 'our']:\n",
    "        if explanation_method == 'shap':\n",
    "            g = lambda x: explainer.shap_values(x, nsamples=50, show_progress=False)\n",
    "        elif explanation_method == 'mean':\n",
    "            g = lambda x: model.instance_explanation(x, agg=\"mean\", step=10)\n",
    "        elif explanation_method == 'max':\n",
    "            g = lambda x: model.instance_explanation(x, agg=\"max\", step=10)\n",
    "        elif explanation_method == 'our':\n",
    "            g = lambda x: model.instance_explanation(x, agg=\"weighted_mean\", step=10)\n",
    "        faithfulness_list = []\n",
    "        for idx in tqdm(range(len(data_to_explain))):\n",
    "            x_i = data_to_explain[idx,:]\n",
    "            faithfulness_list.append(faithfulness(model.predict_score, g, x_i, x_baseline, subset_size=k, num_samples=100))\n",
    "        faithfulness_list = np.array(faithfulness_list)\n",
    "        result[explanation_method] = faithfulness_list.mean()\n",
    "    faithfulness_df = pd.concat([faithfulness_df, pd.DataFrame(result, index=[k])])\n",
    "    print(f'k: {k}, {result}')\n",
    "faithfulness_df = faithfulness_df.reset_index()"
   ]
  },
  {
   "cell_type": "code",
   "execution_count": null,
   "id": "580a5094",
   "metadata": {},
   "outputs": [],
   "source": [
    "faithfulness_df.to_csv(os.path.join(f\"faithfulness_{dataset_name}.csv\"), index=False)\n"
   ]
  },
  {
   "cell_type": "code",
   "execution_count": null,
   "id": "1755be17",
   "metadata": {},
   "outputs": [
    {
     "data": {
      "application/vnd.jupyter.widget-view+json": {
       "model_id": "b56c92f92073479aaf05839a6a6e4525",
       "version_major": 2,
       "version_minor": 0
      },
      "text/plain": [
       "  0%|          | 0/271 [00:00<?, ?it/s]"
      ]
     },
     "metadata": {},
     "output_type": "display_data"
    },
    {
     "data": {
      "application/vnd.jupyter.widget-view+json": {
       "model_id": "58802be05c2d456d906463697efbc3fe",
       "version_major": 2,
       "version_minor": 0
      },
      "text/plain": [
       "  0%|          | 0/271 [00:00<?, ?it/s]"
      ]
     },
     "metadata": {},
     "output_type": "display_data"
    },
    {
     "data": {
      "application/vnd.jupyter.widget-view+json": {
       "model_id": "cf6ac8f88639405bb03bf77c5d46426c",
       "version_major": 2,
       "version_minor": 0
      },
      "text/plain": [
       "  0%|          | 0/271 [00:00<?, ?it/s]"
      ]
     },
     "metadata": {},
     "output_type": "display_data"
    },
    {
     "data": {
      "application/vnd.jupyter.widget-view+json": {
       "model_id": "07d30bc300734a3ca2f0ffd9ea61a0ea",
       "version_major": 2,
       "version_minor": 0
      },
      "text/plain": [
       "  0%|          | 0/271 [00:00<?, ?it/s]"
      ]
     },
     "metadata": {},
     "output_type": "display_data"
    },
    {
     "name": "stdout",
     "output_type": "stream",
     "text": [
      "{'k': 3, 'shap': 4.644011665427498, 'mean': 5.669872974265195, 'max': 5.8890854860662865, 'our': 5.770517617346997}\n"
     ]
    },
    {
     "data": {
      "application/vnd.jupyter.widget-view+json": {
       "model_id": "6f0ab3246bc74749bc7a597faa7a98b0",
       "version_major": 2,
       "version_minor": 0
      },
      "text/plain": [
       "  0%|          | 0/271 [00:00<?, ?it/s]"
      ]
     },
     "metadata": {},
     "output_type": "display_data"
    },
    {
     "data": {
      "application/vnd.jupyter.widget-view+json": {
       "model_id": "122f109c37d941a2840ecc2509870ad6",
       "version_major": 2,
       "version_minor": 0
      },
      "text/plain": [
       "  0%|          | 0/271 [00:00<?, ?it/s]"
      ]
     },
     "metadata": {},
     "output_type": "display_data"
    }
   ],
   "source": [
    "from sklearn.metrics import mean_squared_error\n",
    "import pandas as pd\n",
    "def compute_fidelity_regression(x, f, g, train_set, top_k=5, n_samples=100, random_state=42):\n",
    "    rng = np.random.default_rng(random_state)\n",
    "    idx = rng.choice(len(train_set), size=n_samples, replace=False)\n",
    "    X_subset = train_set[idx]\n",
    "    x = x.reshape(1, -1)\n",
    "\n",
    "    importances = g(x).reshape(1,-1) # shape: (n_samples, n_features)\n",
    "    important_indices = np.argsort(-np.abs(importances), axis=1)[:, :top_k]  # shape: (n_samples, top_k)\n",
    "    score_orig = f(x)\n",
    "\n",
    "    # Create the perturbed dataset\n",
    "    X_subset[:, important_indices] = x[:,important_indices]\n",
    "    score_perturbed = f(X_subset) \n",
    "    score_orig = score_orig.repeat(n_samples, axis=0)\n",
    "    \n",
    "\n",
    "    fidelity_score = mean_squared_error(score_orig, score_perturbed)\n",
    "    return fidelity_score\n",
    "fidelity_result_pd = pd.DataFrame()\n",
    "for k in range(3,dataset['X_train'].shape[1], 2):\n",
    "    fidelity_result = {\"k\": k}\n",
    "    for explanation_method in [\"shap\", 'mean', 'max', 'our']:\n",
    "        if explanation_method == 'shap':\n",
    "            g = lambda x: explainer.shap_values(x, nsamples=50, show_progress=False,silent=True)\n",
    "        elif explanation_method == 'mean':\n",
    "            g = lambda x: model.instance_explanation(x, agg=\"mean\", step=10)\n",
    "        elif explanation_method == 'max':\n",
    "            g = lambda x: model.instance_explanation(x, agg=\"max\", step=10)\n",
    "        elif explanation_method == 'our':\n",
    "            g = lambda x: model.instance_explanation(x, agg=\"weighted_mean\", step=10)\n",
    "        fidelity_list = []\n",
    "        for idx in tqdm(range(len(data_to_explain))):\n",
    "            x_i = data_to_explain[idx,:]\n",
    "            fidelity_list.append(compute_fidelity_regression(x_i, model.predict_score, g, train_set=dataset['X_train'], top_k=k, n_samples=100))\n",
    "        fidelity_list = np.array(fidelity_list)\n",
    "        fidelity_result[explanation_method] = fidelity_list.mean()\n",
    "    print(f'{fidelity_result}')\n",
    "    fidelity_result_pd = pd.concat([fidelity_result_pd, pd.DataFrame(fidelity_result, index=[0])], axis=0)\n",
    "fidelity_result_pd = fidelity_result_pd.reset_index(drop=True)"
   ]
  },
  {
   "cell_type": "code",
   "execution_count": null,
   "id": "014e4abd",
   "metadata": {},
   "outputs": [
    {
     "data": {
      "application/vnd.microsoft.datawrangler.viewer.v0+json": {
       "columns": [
        {
         "name": "index",
         "rawType": "int64",
         "type": "integer"
        },
        {
         "name": "k",
         "rawType": "int64",
         "type": "integer"
        },
        {
         "name": "shap",
         "rawType": "float64",
         "type": "float"
        },
        {
         "name": "mean",
         "rawType": "float64",
         "type": "float"
        },
        {
         "name": "max",
         "rawType": "float64",
         "type": "float"
        },
        {
         "name": "our",
         "rawType": "float64",
         "type": "float"
        }
       ],
       "conversionMethod": "pd.DataFrame",
       "ref": "802ccda9-2710-4d14-a03a-34797974932c",
       "rows": [
        [
         "0",
         "3",
         "0.1799741840410471",
         "0.05795918399586443",
         "0.2928649337343675",
         "0.11693750249992614"
        ],
        [
         "1",
         "5",
         "0.010097005378626605",
         "0.03967703548835432",
         "0.02106232583251612",
         "0.01886042247003259"
        ],
        [
         "2",
         "7",
         "0.00766690708859187",
         "0.008114106986484567",
         "0.010811313286047107",
         "0.007751930880013498"
        ],
        [
         "3",
         "9",
         "0.006360791429784999",
         "0.0059432419284647636",
         "0.0052925051927056165",
         "0.005714599964761816"
        ],
        [
         "4",
         "11",
         "0.007295510503098146",
         "0.005734121732284121",
         "0.004929320827289701",
         "0.006053684829984314"
        ],
        [
         "5",
         "13",
         "0.0055068592631449635",
         "0.005324083603962225",
         "0.0044445661530914645",
         "0.005109776620047781"
        ],
        [
         "6",
         "15",
         "0.005265017370161076",
         "0.004296928549811253",
         "0.0028696057048628962",
         "0.004564247087943187"
        ],
        [
         "7",
         "17",
         "0.004051634424291837",
         "0.002322872558146392",
         "0.001527665458410527",
         "0.0027386634511212767"
        ],
        [
         "8",
         "19",
         "0.0022191324731079326",
         "0.0011565826185947294",
         "0.0005286828471542481",
         "0.0008546036914373551"
        ]
       ],
       "shape": {
        "columns": 5,
        "rows": 9
       }
      },
      "text/html": [
       "<div>\n",
       "<style scoped>\n",
       "    .dataframe tbody tr th:only-of-type {\n",
       "        vertical-align: middle;\n",
       "    }\n",
       "\n",
       "    .dataframe tbody tr th {\n",
       "        vertical-align: top;\n",
       "    }\n",
       "\n",
       "    .dataframe thead th {\n",
       "        text-align: right;\n",
       "    }\n",
       "</style>\n",
       "<table border=\"1\" class=\"dataframe\">\n",
       "  <thead>\n",
       "    <tr style=\"text-align: right;\">\n",
       "      <th></th>\n",
       "      <th>k</th>\n",
       "      <th>shap</th>\n",
       "      <th>mean</th>\n",
       "      <th>max</th>\n",
       "      <th>our</th>\n",
       "    </tr>\n",
       "  </thead>\n",
       "  <tbody>\n",
       "    <tr>\n",
       "      <th>0</th>\n",
       "      <td>3</td>\n",
       "      <td>0.179974</td>\n",
       "      <td>0.057959</td>\n",
       "      <td>0.292865</td>\n",
       "      <td>0.116938</td>\n",
       "    </tr>\n",
       "    <tr>\n",
       "      <th>1</th>\n",
       "      <td>5</td>\n",
       "      <td>0.010097</td>\n",
       "      <td>0.039677</td>\n",
       "      <td>0.021062</td>\n",
       "      <td>0.018860</td>\n",
       "    </tr>\n",
       "    <tr>\n",
       "      <th>2</th>\n",
       "      <td>7</td>\n",
       "      <td>0.007667</td>\n",
       "      <td>0.008114</td>\n",
       "      <td>0.010811</td>\n",
       "      <td>0.007752</td>\n",
       "    </tr>\n",
       "    <tr>\n",
       "      <th>3</th>\n",
       "      <td>9</td>\n",
       "      <td>0.006361</td>\n",
       "      <td>0.005943</td>\n",
       "      <td>0.005293</td>\n",
       "      <td>0.005715</td>\n",
       "    </tr>\n",
       "    <tr>\n",
       "      <th>4</th>\n",
       "      <td>11</td>\n",
       "      <td>0.007296</td>\n",
       "      <td>0.005734</td>\n",
       "      <td>0.004929</td>\n",
       "      <td>0.006054</td>\n",
       "    </tr>\n",
       "    <tr>\n",
       "      <th>5</th>\n",
       "      <td>13</td>\n",
       "      <td>0.005507</td>\n",
       "      <td>0.005324</td>\n",
       "      <td>0.004445</td>\n",
       "      <td>0.005110</td>\n",
       "    </tr>\n",
       "    <tr>\n",
       "      <th>6</th>\n",
       "      <td>15</td>\n",
       "      <td>0.005265</td>\n",
       "      <td>0.004297</td>\n",
       "      <td>0.002870</td>\n",
       "      <td>0.004564</td>\n",
       "    </tr>\n",
       "    <tr>\n",
       "      <th>7</th>\n",
       "      <td>17</td>\n",
       "      <td>0.004052</td>\n",
       "      <td>0.002323</td>\n",
       "      <td>0.001528</td>\n",
       "      <td>0.002739</td>\n",
       "    </tr>\n",
       "    <tr>\n",
       "      <th>8</th>\n",
       "      <td>19</td>\n",
       "      <td>0.002219</td>\n",
       "      <td>0.001157</td>\n",
       "      <td>0.000529</td>\n",
       "      <td>0.000855</td>\n",
       "    </tr>\n",
       "  </tbody>\n",
       "</table>\n",
       "</div>"
      ],
      "text/plain": [
       "    k      shap      mean       max       our\n",
       "0   3  0.179974  0.057959  0.292865  0.116938\n",
       "1   5  0.010097  0.039677  0.021062  0.018860\n",
       "2   7  0.007667  0.008114  0.010811  0.007752\n",
       "3   9  0.006361  0.005943  0.005293  0.005715\n",
       "4  11  0.007296  0.005734  0.004929  0.006054\n",
       "5  13  0.005507  0.005324  0.004445  0.005110\n",
       "6  15  0.005265  0.004297  0.002870  0.004564\n",
       "7  17  0.004052  0.002323  0.001528  0.002739\n",
       "8  19  0.002219  0.001157  0.000529  0.000855"
      ]
     },
     "execution_count": 18,
     "metadata": {},
     "output_type": "execute_result"
    }
   ],
   "source": [
    "fidelity_result_pd"
   ]
  },
  {
   "cell_type": "code",
   "execution_count": null,
   "id": "e1b58de3",
   "metadata": {},
   "outputs": [
    {
     "data": {
      "application/vnd.microsoft.datawrangler.viewer.v0+json": {
       "columns": [
        {
         "name": "index",
         "rawType": "int64",
         "type": "integer"
        },
        {
         "name": "index",
         "rawType": "int64",
         "type": "integer"
        },
        {
         "name": "shap",
         "rawType": "float64",
         "type": "float"
        },
        {
         "name": "mean",
         "rawType": "float64",
         "type": "float"
        },
        {
         "name": "max",
         "rawType": "float64",
         "type": "float"
        },
        {
         "name": "our",
         "rawType": "float64",
         "type": "float"
        }
       ],
       "conversionMethod": "pd.DataFrame",
       "ref": "6aa53fbe-e61b-4dd7-b4ef-4cc721590053",
       "rows": [
        [
         "0",
         "3",
         "0.5014643578791105",
         "0.7324272986161521",
         "0.7381199350933335",
         "0.7162082731269219"
        ],
        [
         "1",
         "5",
         "0.4467658439958019",
         "0.6565077309373994",
         "0.6620993297410847",
         "0.6554926945941894"
        ],
        [
         "2",
         "7",
         "0.4669344682354509",
         "0.5998733930354878",
         "0.5762276862002582",
         "0.5758411507383697"
        ],
        [
         "3",
         "9",
         "0.5091564774486645",
         "0.5338874934971025",
         "0.5259437073916956",
         "0.5412707044828673"
        ],
        [
         "4",
         "11",
         "0.526958454800013",
         "0.5120991505686798",
         "0.49225920760735975",
         "0.5169308506307789"
        ],
        [
         "5",
         "13",
         "0.6028682392460032",
         "0.5200933067614268",
         "0.5174521618990001",
         "0.5221946034073766"
        ],
        [
         "6",
         "15",
         "0.6480022893243697",
         "0.5665894569213068",
         "0.5403410635170185",
         "0.5669384020537022"
        ],
        [
         "7",
         "17",
         "0.7065958730527245",
         "0.5935422308489469",
         "0.5754581594557469",
         "0.58868074071426"
        ],
        [
         "8",
         "19",
         "0.7673666976938524",
         "0.6419682369232605",
         "0.6243305104176641",
         "0.6451507258578897"
        ]
       ],
       "shape": {
        "columns": 5,
        "rows": 9
       }
      },
      "text/html": [
       "<div>\n",
       "<style scoped>\n",
       "    .dataframe tbody tr th:only-of-type {\n",
       "        vertical-align: middle;\n",
       "    }\n",
       "\n",
       "    .dataframe tbody tr th {\n",
       "        vertical-align: top;\n",
       "    }\n",
       "\n",
       "    .dataframe thead th {\n",
       "        text-align: right;\n",
       "    }\n",
       "</style>\n",
       "<table border=\"1\" class=\"dataframe\">\n",
       "  <thead>\n",
       "    <tr style=\"text-align: right;\">\n",
       "      <th></th>\n",
       "      <th>index</th>\n",
       "      <th>shap</th>\n",
       "      <th>mean</th>\n",
       "      <th>max</th>\n",
       "      <th>our</th>\n",
       "    </tr>\n",
       "  </thead>\n",
       "  <tbody>\n",
       "    <tr>\n",
       "      <th>0</th>\n",
       "      <td>3</td>\n",
       "      <td>0.501464</td>\n",
       "      <td>0.732427</td>\n",
       "      <td>0.738120</td>\n",
       "      <td>0.716208</td>\n",
       "    </tr>\n",
       "    <tr>\n",
       "      <th>1</th>\n",
       "      <td>5</td>\n",
       "      <td>0.446766</td>\n",
       "      <td>0.656508</td>\n",
       "      <td>0.662099</td>\n",
       "      <td>0.655493</td>\n",
       "    </tr>\n",
       "    <tr>\n",
       "      <th>2</th>\n",
       "      <td>7</td>\n",
       "      <td>0.466934</td>\n",
       "      <td>0.599873</td>\n",
       "      <td>0.576228</td>\n",
       "      <td>0.575841</td>\n",
       "    </tr>\n",
       "    <tr>\n",
       "      <th>3</th>\n",
       "      <td>9</td>\n",
       "      <td>0.509156</td>\n",
       "      <td>0.533887</td>\n",
       "      <td>0.525944</td>\n",
       "      <td>0.541271</td>\n",
       "    </tr>\n",
       "    <tr>\n",
       "      <th>4</th>\n",
       "      <td>11</td>\n",
       "      <td>0.526958</td>\n",
       "      <td>0.512099</td>\n",
       "      <td>0.492259</td>\n",
       "      <td>0.516931</td>\n",
       "    </tr>\n",
       "    <tr>\n",
       "      <th>5</th>\n",
       "      <td>13</td>\n",
       "      <td>0.602868</td>\n",
       "      <td>0.520093</td>\n",
       "      <td>0.517452</td>\n",
       "      <td>0.522195</td>\n",
       "    </tr>\n",
       "    <tr>\n",
       "      <th>6</th>\n",
       "      <td>15</td>\n",
       "      <td>0.648002</td>\n",
       "      <td>0.566589</td>\n",
       "      <td>0.540341</td>\n",
       "      <td>0.566938</td>\n",
       "    </tr>\n",
       "    <tr>\n",
       "      <th>7</th>\n",
       "      <td>17</td>\n",
       "      <td>0.706596</td>\n",
       "      <td>0.593542</td>\n",
       "      <td>0.575458</td>\n",
       "      <td>0.588681</td>\n",
       "    </tr>\n",
       "    <tr>\n",
       "      <th>8</th>\n",
       "      <td>19</td>\n",
       "      <td>0.767367</td>\n",
       "      <td>0.641968</td>\n",
       "      <td>0.624331</td>\n",
       "      <td>0.645151</td>\n",
       "    </tr>\n",
       "  </tbody>\n",
       "</table>\n",
       "</div>"
      ],
      "text/plain": [
       "   index      shap      mean       max       our\n",
       "0      3  0.501464  0.732427  0.738120  0.716208\n",
       "1      5  0.446766  0.656508  0.662099  0.655493\n",
       "2      7  0.466934  0.599873  0.576228  0.575841\n",
       "3      9  0.509156  0.533887  0.525944  0.541271\n",
       "4     11  0.526958  0.512099  0.492259  0.516931\n",
       "5     13  0.602868  0.520093  0.517452  0.522195\n",
       "6     15  0.648002  0.566589  0.540341  0.566938\n",
       "7     17  0.706596  0.593542  0.575458  0.588681\n",
       "8     19  0.767367  0.641968  0.624331  0.645151"
      ]
     },
     "execution_count": 19,
     "metadata": {},
     "output_type": "execute_result"
    }
   ],
   "source": [
    "faithfulness_df"
   ]
  },
  {
   "cell_type": "code",
   "execution_count": null,
   "id": "eef8e16a",
   "metadata": {},
   "outputs": [],
   "source": [
    "# Save everything, infidelity, faithfulness and fidelity\n",
    "\n",
    "fidelity_result_pd.to_csv(os.path.join(f\"fidelity_{dataset_name}.csv\"), index=False)\n",
    "\n",
    "print(f\"Saved infidelity, faithfulness and fidelity to {dataset_name}.csv\")"
   ]
  },
  {
   "cell_type": "code",
   "execution_count": null,
   "id": "4e1e4906",
   "metadata": {},
   "outputs": [],
   "source": []
  },
  {
   "cell_type": "code",
   "execution_count": null,
   "id": "f204e50e",
   "metadata": {},
   "outputs": [],
   "source": []
  },
  {
   "cell_type": "code",
   "execution_count": null,
   "id": "94c85a95",
   "metadata": {},
   "outputs": [],
   "source": []
  },
  {
   "cell_type": "code",
   "execution_count": null,
   "id": "a652a4d3",
   "metadata": {},
   "outputs": [],
   "source": []
  },
  {
   "cell_type": "code",
   "execution_count": null,
   "id": "7fce159c",
   "metadata": {},
   "outputs": [],
   "source": []
  },
  {
   "cell_type": "code",
   "execution_count": null,
   "id": "c230e3e8",
   "metadata": {},
   "outputs": [],
   "source": []
  },
  {
   "cell_type": "code",
   "execution_count": null,
   "id": "80dac1f1",
   "metadata": {},
   "outputs": [],
   "source": []
  },
  {
   "cell_type": "code",
   "execution_count": null,
   "id": "fa46c6fb",
   "metadata": {},
   "outputs": [],
   "source": []
  },
  {
   "cell_type": "code",
   "execution_count": null,
   "id": "3a9d6e15",
   "metadata": {},
   "outputs": [],
   "source": []
  },
  {
   "cell_type": "code",
   "execution_count": null,
   "id": "83dbb4b3",
   "metadata": {},
   "outputs": [],
   "source": []
  },
  {
   "cell_type": "code",
   "execution_count": null,
   "id": "ec4665b2",
   "metadata": {},
   "outputs": [],
   "source": []
  },
  {
   "cell_type": "code",
   "execution_count": null,
   "id": "37257e4e",
   "metadata": {},
   "outputs": [],
   "source": []
  },
  {
   "cell_type": "code",
   "execution_count": null,
   "id": "ee815cc8",
   "metadata": {},
   "outputs": [],
   "source": []
  },
  {
   "cell_type": "code",
   "execution_count": null,
   "id": "ec313ab8",
   "metadata": {},
   "outputs": [],
   "source": []
  },
  {
   "cell_type": "code",
   "execution_count": null,
   "id": "8a07fddc",
   "metadata": {},
   "outputs": [],
   "source": []
  }
 ],
 "metadata": {
  "kernelspec": {
   "display_name": "venv",
   "language": "python",
   "name": "python3"
  },
  "language_info": {
   "codemirror_mode": {
    "name": "ipython",
    "version": 3
   },
   "file_extension": ".py",
   "mimetype": "text/x-python",
   "name": "python",
   "nbconvert_exporter": "python",
   "pygments_lexer": "ipython3",
   "version": "3.11.2"
  }
 },
 "nbformat": 4,
 "nbformat_minor": 5
}
