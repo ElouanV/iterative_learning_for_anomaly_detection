{
 "cells": [
  {
   "cell_type": "code",
   "execution_count": 1,
   "metadata": {},
   "outputs": [],
   "source": [
    "import torch\n",
    "import numpy as np\n",
    "import pandas as pd\n",
    "import yaml\n",
    "import matplotlib.pyplot as plt\n",
    "from pathlib import Path\n",
    "from tqdm.notebook import tqdm"
   ]
  },
  {
   "cell_type": "code",
   "execution_count": 2,
   "metadata": {},
   "outputs": [],
   "source": [
    "def evaluate_explainability_robustness(model, instance, explain_func, perturbation_scale=0.01, num_perturbations=50):\n",
    "    \"\"\"\n",
    "    Evaluate the robustness of an explainability vector for a given instance and model.\n",
    "\n",
    "    Parameters:\n",
    "    - model: torch.nn.Module\n",
    "        The PyTorch model to be evaluated.\n",
    "    - instance: torch.Tensor\n",
    "        The input instance for which the explainability vector is computed (1D tensor).\n",
    "    - explain_func: function\n",
    "        A function that takes `model` and `instance` as inputs and returns an explainability vector.\n",
    "    - perturbation_scale: float\n",
    "        The standard deviation of Gaussian noise added to the input for perturbations.\n",
    "    - num_perturbations: int\n",
    "        The number of perturbed instances to generate.\n",
    "\n",
    "    Returns:\n",
    "    - robustness_score: float\n",
    "        A score indicating the robustness of the explainability vector (lower is better).\n",
    "    \"\"\"\n",
    "    model.model.eval()  # Ensure the model is in evaluation mode\n",
    "    if not isinstance(instance, torch.Tensor):\n",
    "        instance = torch.tensor(instance, dtype=torch.float32)\n",
    "    # Compute the original explainability vector\n",
    "    original_explain_vector = torch.tensor(explain_func(instance))\n",
    "\n",
    "    # Initialize a list to store differences in explainability vectors\n",
    "    explain_diff_magnitudes = []\n",
    "\n",
    "    for _ in tqdm(range(num_perturbations)):\n",
    "        # Generate a perturbed instance by adding Gaussian noise\n",
    "        perturbation = torch.randn_like(instance) * perturbation_scale\n",
    "        perturbed_instance = instance + perturbation\n",
    "\n",
    "        # Compute the explainability vector for the perturbed instance\n",
    "        perturbed_explain_vector = torch.tensor(explain_func(perturbed_instance))\n",
    "\n",
    "        # Compute the difference between the original and perturbed explainability vectors\n",
    "        diff = original_explain_vector - perturbed_explain_vector\n",
    "\n",
    "        # Measure the magnitude of the difference\n",
    "        diff_magnitude = torch.norm(diff).item()\n",
    "        explain_diff_magnitudes.append(diff_magnitude)\n",
    "\n",
    "    # Compute the average magnitude of differences as the robustness score\n",
    "    robustness_score = np.mean(explain_diff_magnitudes)\n",
    "\n",
    "    return robustness_score\n"
   ]
  },
  {
   "cell_type": "code",
   "execution_count": 3,
   "metadata": {},
   "outputs": [],
   "source": [
    "experiment_path = \"../results/all_db_all_training/DTEC_DSIL_deterministic_exponential_s0_T400_bins7/A_synthetic_f4_s5000_c2_r0.05_0.05_seed_0\"\n",
    "\n",
    "model_path = f\"{experiment_path}/model.pth\"\n",
    "\n",
    "model = torch.load(model_path, weights_only=True)\n",
    "\n",
    "dataset_path = f\"{experiment_path}/dataset.pth\"\n"
   ]
  },
  {
   "cell_type": "code",
   "execution_count": 4,
   "metadata": {},
   "outputs": [
    {
     "data": {
      "text/plain": [
       "'../dataset/synthetic_generation/A_synthetic_f4_s5000_c2_r0.05_0.05_seed_0/data.npy'"
      ]
     },
     "execution_count": 4,
     "metadata": {},
     "output_type": "execute_result"
    }
   ],
   "source": [
    "experiment_config_path = Path(f\"{experiment_path}/experiment_config.yaml\")\n",
    "with open(experiment_config_path, \"r\") as file:\n",
    "    experiment_config = yaml.safe_load(file)\n",
    "\n",
    "dataset_path = f\"../{experiment_config['dataset']['dataset_path']}\"\n",
    "dataset_path"
   ]
  },
  {
   "cell_type": "code",
   "execution_count": 5,
   "metadata": {},
   "outputs": [
    {
     "name": "stderr",
     "output_type": "stream",
     "text": [
      "2025-01-20 13:35:51.561345: E external/local_xla/xla/stream_executor/cuda/cuda_fft.cc:485] Unable to register cuFFT factory: Attempting to register factory for plugin cuFFT when one has already been registered\n",
      "2025-01-20 13:35:51.575436: E external/local_xla/xla/stream_executor/cuda/cuda_dnn.cc:8454] Unable to register cuDNN factory: Attempting to register factory for plugin cuDNN when one has already been registered\n",
      "2025-01-20 13:35:51.579676: E external/local_xla/xla/stream_executor/cuda/cuda_blas.cc:1452] Unable to register cuBLAS factory: Attempting to register factory for plugin cuBLAS when one has already been registered\n",
      "2025-01-20 13:35:51.590754: I tensorflow/core/platform/cpu_feature_guard.cc:210] This TensorFlow binary is optimized to use available CPU instructions in performance-critical operations.\n",
      "To enable the following instructions: AVX2 AVX512F FMA, in other operations, rebuild TensorFlow with the appropriate compiler flags.\n",
      "2025-01-20 13:35:52.392494: W tensorflow/compiler/tf2tensorrt/utils/py_utils.cc:38] TF-TRT Warning: Could not find TensorRT\n"
     ]
    }
   ],
   "source": [
    "import sys\n",
    "from pathlib import Path\n",
    "\n",
    "project_root = Path.cwd().parent \n",
    "sys.path.append(str(project_root))\n",
    "sys.path.append(\"../\")\n",
    "\n",
    "\n",
    "from src.utils import get_dataset, select_model"
   ]
  },
  {
   "cell_type": "code",
   "execution_count": 6,
   "metadata": {},
   "outputs": [
    {
     "name": "stderr",
     "output_type": "stream",
     "text": [
      "/tmp/ipykernel_2103255/2641106970.py:4: UserWarning: \n",
      "The version_base parameter is not specified.\n",
      "Please specify a compatability version level, or None.\n",
      "Will assume defaults for version 1.1\n",
      "  with initialize(config_path=experiment_path):\n"
     ]
    }
   ],
   "source": [
    "from hydra import initialize, compose\n",
    "\n",
    "# Initialize Hydra and load the configuration\n",
    "with initialize(config_path=experiment_path):\n",
    "    cfg = compose(config_name=experiment_config_path.name)\n",
    "cfg.dataset.dataset_path = \"../\" + cfg.dataset.dataset_path"
   ]
  },
  {
   "cell_type": "code",
   "execution_count": null,
   "metadata": {},
   "outputs": [
    {
     "name": "stdout",
     "output_type": "stream",
     "text": [
      "{'Samples': 5000, 'Features': 4, 'Anomalies': 500, 'Anomalies Ratio(%)': 10.0}\n"
     ]
    }
   ],
   "source": [
    "dataset = get_dataset(cfg)"
   ]
  },
  {
   "cell_type": "code",
   "execution_count": 8,
   "metadata": {},
   "outputs": [],
   "source": [
    "X = dataset['X_test']\n",
    "y = dataset['y_test']\n",
    "explanation = dataset['explanation_test']\n",
    "\n",
    "# keep only data with label != 0\n",
    "X = X[y != 0]\n",
    "explanation = explanation[y != 0]\n",
    "y = y[y != 0]\n",
    "\n",
    "# Select 200 random instances from the dataset\n",
    "num_instances = 200\n",
    "random_indices = np.random.choice(len(X), num_instances, replace=False)\n",
    "instances = X[random_indices]\n",
    "explanations = explanation[random_indices]\n",
    "labels = y[random_indices]"
   ]
  },
  {
   "cell_type": "code",
   "execution_count": 9,
   "metadata": {},
   "outputs": [
    {
     "name": "stderr",
     "output_type": "stream",
     "text": [
      "/home/elouan/code/code_repo/src/models/dte.py:416: FutureWarning: You are using `torch.load` with `weights_only=False` (the current default value), which uses the default pickle module implicitly. It is possible to construct malicious pickle data which will execute arbitrary code during unpickling (See https://github.com/pytorch/pytorch/blob/main/SECURITY.md#untrusted-models for more details). In a future release, the default value for `weights_only` will be flipped to `True`. This limits the functions that could be executed during unpickling. Arbitrary objects will no longer be allowed to be loaded via this mode unless they are explicitly allowlisted by the user via `torch.serialization.add_safe_globals`. We recommend you start setting `weights_only=True` for any use case where you don't have full control of the loaded file. Please open an issue on GitHub for any issues related to this experimental feature.\n",
      "  self.model.load_state_dict(torch.load(path))\n"
     ]
    }
   ],
   "source": [
    "# Evaluate the robustness of the explanation for the first instance\n",
    "model = select_model(cfg.model, device=\"cuda:0\" if torch.cuda.is_available() else \"cpu\")\n",
    "model.load_model(model_path, X)"
   ]
  },
  {
   "cell_type": "code",
   "execution_count": 10,
   "metadata": {},
   "outputs": [
    {
     "data": {
      "text/plain": [
       "(4,)"
      ]
     },
     "execution_count": 10,
     "metadata": {},
     "output_type": "execute_result"
    }
   ],
   "source": [
    "instances[0].shape"
   ]
  },
  {
   "cell_type": "code",
   "execution_count": 11,
   "metadata": {},
   "outputs": [],
   "source": [
    "from src.shap_explainer import ShapExplainer\n",
    "\n",
    "explainer = ShapExplainer(model, X)\n"
   ]
  },
  {
   "cell_type": "code",
   "execution_count": 12,
   "metadata": {},
   "outputs": [
    {
     "data": {
      "application/vnd.jupyter.widget-view+json": {
       "model_id": "1dffc357f3e8426c954d6286df598b7d",
       "version_major": 2,
       "version_minor": 0
      },
      "text/plain": [
       "  0%|          | 0/50 [00:00<?, ?it/s]"
      ]
     },
     "metadata": {},
     "output_type": "display_data"
    }
   ],
   "source": [
    "shap_robustness = evaluate_explainability_robustness(model, instances[0].reshape(1,-1), explainer.explain_instance, perturbation_scale=0.01, num_perturbations=50)"
   ]
  },
  {
   "cell_type": "code",
   "execution_count": 13,
   "metadata": {},
   "outputs": [
    {
     "name": "stderr",
     "output_type": "stream",
     "text": [
      "/home/elouan/code/code_repo/src/models/dte.py:327: UserWarning: To copy construct from a tensor, it is recommended to use sourceTensor.clone().detach() or sourceTensor.clone().detach().requires_grad_(True), rather than torch.tensor(sourceTensor).\n",
      "  torch.tensor(x[:, i]),\n"
     ]
    },
    {
     "data": {
      "application/vnd.jupyter.widget-view+json": {
       "model_id": "f47a99831b5b4df3ba4f1109ad786476",
       "version_major": 2,
       "version_minor": 0
      },
      "text/plain": [
       "  0%|          | 0/50 [00:00<?, ?it/s]"
      ]
     },
     "metadata": {},
     "output_type": "display_data"
    }
   ],
   "source": [
    "ours_robustness = evaluate_explainability_robustness(model, instances[0].reshape(1,-1), model.instance_explanation, perturbation_scale=0.01, num_perturbations=50)"
   ]
  },
  {
   "cell_type": "code",
   "execution_count": 14,
   "metadata": {},
   "outputs": [
    {
     "ename": "TypeError",
     "evalue": "expected np.ndarray (got Tensor)",
     "output_type": "error",
     "traceback": [
      "\u001b[0;31m---------------------------------------------------------------------------\u001b[0m",
      "\u001b[0;31mTypeError\u001b[0m                                 Traceback (most recent call last)",
      "Cell \u001b[0;32mIn[14], line 1\u001b[0m\n\u001b[0;32m----> 1\u001b[0m gradient_robustness \u001b[38;5;241m=\u001b[39m \u001b[43mevaluate_explainability_robustness\u001b[49m\u001b[43m(\u001b[49m\u001b[43mmodel\u001b[49m\u001b[43m,\u001b[49m\u001b[43m \u001b[49m\u001b[43minstances\u001b[49m\u001b[43m[\u001b[49m\u001b[38;5;241;43m0\u001b[39;49m\u001b[43m]\u001b[49m\u001b[38;5;241;43m.\u001b[39;49m\u001b[43mreshape\u001b[49m\u001b[43m(\u001b[49m\u001b[38;5;241;43m1\u001b[39;49m\u001b[43m,\u001b[49m\u001b[38;5;241;43m-\u001b[39;49m\u001b[38;5;241;43m1\u001b[39;49m\u001b[43m)\u001b[49m\u001b[43m,\u001b[49m\u001b[43m \u001b[49m\u001b[43mmodel\u001b[49m\u001b[38;5;241;43m.\u001b[39;49m\u001b[43mgradient_explanation\u001b[49m\u001b[43m,\u001b[49m\u001b[43m \u001b[49m\u001b[43mperturbation_scale\u001b[49m\u001b[38;5;241;43m=\u001b[39;49m\u001b[38;5;241;43m0.01\u001b[39;49m\u001b[43m,\u001b[49m\u001b[43m \u001b[49m\u001b[43mnum_perturbations\u001b[49m\u001b[38;5;241;43m=\u001b[39;49m\u001b[38;5;241;43m50\u001b[39;49m\u001b[43m)\u001b[49m\n",
      "Cell \u001b[0;32mIn[2], line 25\u001b[0m, in \u001b[0;36mevaluate_explainability_robustness\u001b[0;34m(model, instance, explain_func, perturbation_scale, num_perturbations)\u001b[0m\n\u001b[1;32m     23\u001b[0m     instance \u001b[38;5;241m=\u001b[39m torch\u001b[38;5;241m.\u001b[39mtensor(instance, dtype\u001b[38;5;241m=\u001b[39mtorch\u001b[38;5;241m.\u001b[39mfloat32)\n\u001b[1;32m     24\u001b[0m \u001b[38;5;66;03m# Compute the original explainability vector\u001b[39;00m\n\u001b[0;32m---> 25\u001b[0m original_explain_vector \u001b[38;5;241m=\u001b[39m torch\u001b[38;5;241m.\u001b[39mtensor(\u001b[43mexplain_func\u001b[49m\u001b[43m(\u001b[49m\u001b[43minstance\u001b[49m\u001b[43m)\u001b[49m)\n\u001b[1;32m     27\u001b[0m \u001b[38;5;66;03m# Initialize a list to store differences in explainability vectors\u001b[39;00m\n\u001b[1;32m     28\u001b[0m explain_diff_magnitudes \u001b[38;5;241m=\u001b[39m []\n",
      "File \u001b[0;32m~/code/code_repo/src/models/dte.py:359\u001b[0m, in \u001b[0;36mDTECategorical.gradient_explanation\u001b[0;34m(self, x)\u001b[0m\n\u001b[1;32m    355\u001b[0m     x \u001b[38;5;241m=\u001b[39m x\u001b[38;5;241m.\u001b[39mreshape(\u001b[38;5;241m1\u001b[39m, \u001b[38;5;241m-\u001b[39m\u001b[38;5;241m1\u001b[39m)\n\u001b[1;32m    357\u001b[0m feature_importance \u001b[38;5;241m=\u001b[39m []\n\u001b[1;32m    358\u001b[0m data_loader \u001b[38;5;241m=\u001b[39m DataLoader(\n\u001b[0;32m--> 359\u001b[0m     \u001b[43mtorch\u001b[49m\u001b[38;5;241;43m.\u001b[39;49m\u001b[43mfrom_numpy\u001b[49m\u001b[43m(\u001b[49m\u001b[43mx\u001b[49m\u001b[43m)\u001b[49m\u001b[38;5;241m.\u001b[39mfloat(),\n\u001b[1;32m    360\u001b[0m     batch_size\u001b[38;5;241m=\u001b[39m\u001b[38;5;241m100\u001b[39m,\n\u001b[1;32m    361\u001b[0m     shuffle\u001b[38;5;241m=\u001b[39m\u001b[38;5;28;01mFalse\u001b[39;00m,\n\u001b[1;32m    362\u001b[0m     drop_last\u001b[38;5;241m=\u001b[39m\u001b[38;5;28;01mFalse\u001b[39;00m,\n\u001b[1;32m    363\u001b[0m )\n\u001b[1;32m    364\u001b[0m \u001b[38;5;28;01mfor\u001b[39;00m i, x \u001b[38;5;129;01min\u001b[39;00m tqdm(\u001b[38;5;28menumerate\u001b[39m(data_loader), desc\u001b[38;5;241m=\u001b[39m\u001b[38;5;124m\"\u001b[39m\u001b[38;5;124mGradient explanation\u001b[39m\u001b[38;5;124m\"\u001b[39m):\n\u001b[1;32m    365\u001b[0m     x \u001b[38;5;241m=\u001b[39m x\u001b[38;5;241m.\u001b[39mto(\u001b[38;5;28mself\u001b[39m\u001b[38;5;241m.\u001b[39mdevice)\n",
      "\u001b[0;31mTypeError\u001b[0m: expected np.ndarray (got Tensor)"
     ]
    }
   ],
   "source": [
    "gradient_robustness = evaluate_explainability_robustness(model, instances[0].reshape(1,-1), model.gradient_explanation, perturbation_scale=0.01, num_perturbations=50)"
   ]
  },
  {
   "cell_type": "code",
   "execution_count": 14,
   "metadata": {},
   "outputs": [
    {
     "data": {
      "text/plain": [
       "-0.00021756765591168727"
      ]
     },
     "execution_count": 14,
     "metadata": {},
     "output_type": "execute_result"
    }
   ],
   "source": [
    "ours_robustness - shap_robustness"
   ]
  },
  {
   "cell_type": "code",
   "execution_count": null,
   "metadata": {},
   "outputs": [],
   "source": [
    "ours_robustness, shap_robustness, gradient_robustness"
   ]
  }
 ],
 "metadata": {
  "kernelspec": {
   "display_name": "venv",
   "language": "python",
   "name": "python3"
  },
  "language_info": {
   "codemirror_mode": {
    "name": "ipython",
    "version": 3
   },
   "file_extension": ".py",
   "mimetype": "text/x-python",
   "name": "python",
   "nbconvert_exporter": "python",
   "pygments_lexer": "ipython3",
   "version": "3.11.2"
  }
 },
 "nbformat": 4,
 "nbformat_minor": 2
}
