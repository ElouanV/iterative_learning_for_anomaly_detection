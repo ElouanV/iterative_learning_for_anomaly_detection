{
 "cells": [
  {
   "cell_type": "code",
   "execution_count": 10,
   "metadata": {},
   "outputs": [
    {
     "name": "stderr",
     "output_type": "stream",
     "text": [
      "2025-01-23 09:36:05.197725: E external/local_xla/xla/stream_executor/cuda/cuda_fft.cc:485] Unable to register cuFFT factory: Attempting to register factory for plugin cuFFT when one has already been registered\n",
      "2025-01-23 09:36:05.213077: E external/local_xla/xla/stream_executor/cuda/cuda_dnn.cc:8454] Unable to register cuDNN factory: Attempting to register factory for plugin cuDNN when one has already been registered\n",
      "2025-01-23 09:36:05.217751: E external/local_xla/xla/stream_executor/cuda/cuda_blas.cc:1452] Unable to register cuBLAS factory: Attempting to register factory for plugin cuBLAS when one has already been registered\n",
      "2025-01-23 09:36:05.229735: I tensorflow/core/platform/cpu_feature_guard.cc:210] This TensorFlow binary is optimized to use available CPU instructions in performance-critical operations.\n",
      "To enable the following instructions: AVX2 AVX512F FMA, in other operations, rebuild TensorFlow with the appropriate compiler flags.\n",
      "2025-01-23 09:36:06.090086: W tensorflow/compiler/tf2tensorrt/utils/py_utils.cc:38] TF-TRT Warning: Could not find TensorRT\n"
     ]
    }
   ],
   "source": [
    "import torch\n",
    "import numpy as np\n",
    "import pandas as pd\n",
    "import yaml\n",
    "import matplotlib.pyplot as plt\n",
    "from pathlib import Path\n",
    "from tqdm.notebook import tqdm\n",
    "\n",
    "import sys\n",
    "from pathlib import Path\n",
    "\n",
    "\n",
    "project_root = Path.cwd().parent \n",
    "sys.path.append(str(project_root))\n",
    "sys.path.append(\"../\")\n",
    "\n",
    "\n",
    "from src.utils import (check_cuda, get_dataset, low_density_anomalies,\n",
    "                   select_model, setup_experiment)\n",
    "from src.utils import get_dataset, select_model\n",
    "from hydra import initialize, compose\n",
    "from src.shap_explainer import ShapExplainer\n"
   ]
  },
  {
   "cell_type": "code",
   "execution_count": 11,
   "metadata": {},
   "outputs": [],
   "source": [
    "def explanation_accuracy(ground_truth, explanation, k=\"auto\"):\n",
    "    if explanation.shape != ground_truth.shape:\n",
    "        raise ValueError(\n",
    "            \"The explanation and ground truth must have the same shape.\"\n",
    "        )\n",
    "    if len(explanation.shape) == 1:\n",
    "        explanation = explanation.reshape(1, -1)\n",
    "    if len(ground_truth.shape) == 1:\n",
    "        ground_truth = ground_truth.reshape(1, -1)\n",
    "    if type(explanation) is torch.Tensor:\n",
    "        explanation = explanation.cpu().detach().numpy()\n",
    "    if type(ground_truth) is torch.Tensor:\n",
    "        ground_truth = ground_truth.cpu().detach().numpy()\n",
    "    accuracy = []\n",
    "    for row in range(ground_truth.shape[0]):\n",
    "        if k == \"auto\":\n",
    "            k_ = int(np.sum(ground_truth[row]))\n",
    "        else:\n",
    "            k_ = k\n",
    "        if k_ == 0 or int(np.sum(ground_truth[row])) == 0:\n",
    "            continue\n",
    "        sorted_indices = np.argsort(explanation[row])[::-1]\n",
    "        instance_explanation = np.zeros_like(explanation[row])\n",
    "        instance_explanation[sorted_indices[:k_]] = 1\n",
    "\n",
    "        instance_accuracy = (\n",
    "            np.sum(ground_truth[row] * instance_explanation) / k_\n",
    "        )\n",
    "        accuracy.append(instance_accuracy)\n",
    "    return np.mean(accuracy)\n",
    "\n",
    "\n",
    "def dcg_score_matrix_p(importance_scores, relevance_matrix, p):\n",
    "    \"\"\"\n",
    "    Compute the DCG scores at a given cutoff rank p.\n",
    "    \"\"\"\n",
    "    importance_scores = np.array(importance_scores)\n",
    "    relevance_matrix = np.array(relevance_matrix)\n",
    "    importance_scores = importance_scores.squeeze()\n",
    "    relevance_matrix = relevance_matrix.squeeze()\n",
    "    assert (\n",
    "        importance_scores.shape == relevance_matrix.shape\n",
    "    ), \"importance_scores and relevance_matrix must have the same shape\"\n",
    "\n",
    "    # Sort relevance based on importance scores\n",
    "    if len(importance_scores.shape) == 1:\n",
    "        importance_scores = importance_scores.reshape(1, -1)\n",
    "        relevance_matrix = relevance_matrix.reshape(1, -1)\n",
    "\n",
    "    sorted_indices = np.argsort(importance_scores, axis=1)[:, ::-1]\n",
    "    sorted_relevance = np.take_along_axis(\n",
    "        relevance_matrix, sorted_indices, axis=1\n",
    "    )\n",
    "\n",
    "    # Consider only the top p items\n",
    "    sorted_relevance_p = sorted_relevance[:, :p]\n",
    "    ranks = np.arange(1, p + 1)  # Ranks from 1 to p\n",
    "\n",
    "    # Compute DCG scores\n",
    "    dcg_scores = np.sum(sorted_relevance_p / np.log2(ranks + 1), axis=1)\n",
    "\n",
    "    return dcg_scores\n",
    "\n",
    "\n",
    "def idcg_score_matrix_p(relevance_matrix, p):\n",
    "    \"\"\"\n",
    "    Compute the IDCG scores at a given cutoff rank p.\n",
    "    \"\"\"\n",
    "    if len(relevance_matrix.shape) == 1:\n",
    "        relevance_matrix = relevance_matrix.reshape(1, -1)\n",
    "    relevance_matrix = np.array(relevance_matrix)\n",
    "    sorted_relevance = np.sort(relevance_matrix, axis=1)[:, ::-1]\n",
    "\n",
    "    # Consider only the top p items\n",
    "    sorted_relevance_p = sorted_relevance[:, :p]\n",
    "    ranks = np.arange(1, p + 1)  # Ranks from 1 to p\n",
    "\n",
    "    # Compute IDCG scores\n",
    "    idcg_scores = np.sum(sorted_relevance_p / np.log2(ranks + 1), axis=1)\n",
    "\n",
    "    return idcg_scores\n",
    "\n",
    "\n",
    "def nDCG_(importance_scores, relevance_matrix, p):\n",
    "    \"\"\"\n",
    "    Compute the nDCG scores at a given cutoff rank p.\n",
    "    \"\"\"\n",
    "    dcg_scores_p = dcg_score_matrix_p(importance_scores, relevance_matrix, p)\n",
    "    idcg_scores_p = idcg_score_matrix_p(relevance_matrix, p)\n",
    "\n",
    "    # Compute normalized DCG\n",
    "    ndcg_scores_p = np.zeros_like(dcg_scores_p)\n",
    "    for i in range(len(dcg_scores_p)):\n",
    "        if idcg_scores_p[i] == 0:\n",
    "            ndcg_scores_p[i] = 0\n",
    "        else:\n",
    "            ndcg_scores_p[i] = dcg_scores_p[i] / idcg_scores_p[i]\n",
    "\n",
    "    return ndcg_scores_p\n",
    "\n",
    "\n",
    "def nDCG_p(importance_scores, relevance_matrix, k= 'auto'):\n",
    "    nDCG_scores = []\n",
    "    if len(importance_scores.shape) == 1:\n",
    "        importance_scores = importance_scores.reshape(1, -1)\n",
    "    if len(relevance_matrix.shape) == 1:\n",
    "        relevance_matrix = relevance_matrix.reshape(1, -1)\n",
    "    for i in range(importance_scores.shape[0]):\n",
    "        if k == \"auto\":\n",
    "            k_ = int(np.sum(relevance_matrix[i]))\n",
    "        else:\n",
    "            k_ = k\n",
    "        if k_ == 0 or int(np.sum(relevance_matrix[i])) == 0:\n",
    "            continue\n",
    "        nDCG_scores.append(nDCG_(importance_scores[i], relevance_matrix[i], p=k_))\n",
    "    return np.array(nDCG_scores)\n"
   ]
  },
  {
   "cell_type": "code",
   "execution_count": 12,
   "metadata": {},
   "outputs": [],
   "source": [
    "def load_model_and_dataset_from_path(experiment_path, n_samples=200):\n",
    "    cfg_experiment_path = Path(f\"{experiment_path}/experiment_config.yaml\")\n",
    "    model_path = f\"{experiment_path}/model.pth\"\n",
    "        \n",
    "    with initialize(config_path=str(experiment_path), version_base=None):\n",
    "        cfg = compose(config_name=cfg_experiment_path.name)\n",
    "    cfg.dataset.dataset_path = \"../\" + cfg.dataset.dataset_path\n",
    "    dataset = get_dataset(cfg)\n",
    "    X = dataset['X_test']\n",
    "    y = dataset['y_test']\n",
    "    explanation = dataset['explanation_test']\n",
    "\n",
    "    # keep only data with label != 0\n",
    "    X = X[y != 0]\n",
    "    explanation = explanation[y != 0]\n",
    "    y = y[y != 0]\n",
    "\n",
    "    # Select 200 random instances from the dataset\n",
    "    random_indices = np.random.choice(len(X), n_samples, replace=False)\n",
    "    instances = X[random_indices]\n",
    "    explanations = explanation[random_indices]\n",
    "    labels = y[random_indices]\n",
    "    model = select_model(cfg.model, device=\"cuda:0\" if torch.cuda.is_available() else \"cpu\")\n",
    "    model.load_model(model_path, X)\n",
    "    return model, instances, explanations, labels, dataset, cfg"
   ]
  },
  {
   "cell_type": "code",
   "execution_count": 27,
   "metadata": {},
   "outputs": [],
   "source": [
    "dsil_exp_path = \"../results/all_db_all_training/DTEC_DSIL_deterministic_0.5_s0_T400_bins7/A_synthetic_f100_s5000_c40_r0.01_0.01_0.01_0.01_0.01_seed_1\""
   ]
  },
  {
   "cell_type": "code",
   "execution_count": 28,
   "metadata": {},
   "outputs": [
    {
     "name": "stdout",
     "output_type": "stream",
     "text": [
      "{'Samples': 5000, 'Features': 100, 'Anomalies': 250, 'Anomalies Ratio(%)': 5.0}\n"
     ]
    },
    {
     "name": "stderr",
     "output_type": "stream",
     "text": [
      "/home/elouan/code/code_repo/src/models/dte.py:418: FutureWarning: You are using `torch.load` with `weights_only=False` (the current default value), which uses the default pickle module implicitly. It is possible to construct malicious pickle data which will execute arbitrary code during unpickling (See https://github.com/pytorch/pytorch/blob/main/SECURITY.md#untrusted-models for more details). In a future release, the default value for `weights_only` will be flipped to `True`. This limits the functions that could be executed during unpickling. Arbitrary objects will no longer be allowed to be loaded via this mode unless they are explicitly allowlisted by the user via `torch.serialization.add_safe_globals`. We recommend you start setting `weights_only=True` for any use case where you don't have full control of the loaded file. Please open an issue on GitHub for any issues related to this experimental feature.\n",
      "  self.model.load_state_dict(torch.load(path))\n"
     ]
    }
   ],
   "source": [
    "model, instances, explanations, labels, dataset, cfg = load_model_and_dataset_from_path(dsil_exp_path)\n"
   ]
  },
  {
   "cell_type": "code",
   "execution_count": 29,
   "metadata": {},
   "outputs": [],
   "source": [
    "X = dataset['X_test']\n",
    "# Take randomly 10% of the test set randomly\n",
    "random_indices = np.random.choice(len(X), int(len(X)*0.1), replace=False)\n",
    "subset_X = X[random_indices]\n"
   ]
  },
  {
   "cell_type": "code",
   "execution_count": 30,
   "metadata": {},
   "outputs": [],
   "source": [
    "import time\n",
    "\n",
    "def ours_mean_explanation_time(model, instances, ground_truth, n_samples=200):\n",
    "    explanation_times = []\n",
    "    nDCG_scores = []\n",
    "    accuracy_scores= []\n",
    "    for i in tqdm(range(n_samples)):\n",
    "        instance = instances[i]\n",
    "        start = time.time()\n",
    "        explanation = model.instance_explanation(instance, step=50)\n",
    "        end = time.time()\n",
    "        explanation_times.append(end-start)\n",
    "        nDCG = nDCG_p(explanation, ground_truth[i])\n",
    "        nDCG_scores.append(nDCG)\n",
    "        accuracy_scores.append(explanation_accuracy(ground_truth[i], explanation))\n",
    "    return np.mean(explanation_times), np.mean(nDCG_scores), np.mean(accuracy_scores)"
   ]
  },
  {
   "cell_type": "code",
   "execution_count": 31,
   "metadata": {},
   "outputs": [
    {
     "data": {
      "application/vnd.jupyter.widget-view+json": {
       "model_id": "0acb9fca101146c498ce40f1508b78b5",
       "version_major": 2,
       "version_minor": 0
      },
      "text/plain": [
       "  0%|          | 0/200 [00:00<?, ?it/s]"
      ]
     },
     "metadata": {},
     "output_type": "display_data"
    },
    {
     "data": {
      "text/plain": [
       "(0.5398874545097351, 0.5708035588536545, 0.5148115615615616)"
      ]
     },
     "execution_count": 31,
     "metadata": {},
     "output_type": "execute_result"
    }
   ],
   "source": [
    "ours_mean_explanation_time(model, instances, explanations, n_samples=200)"
   ]
  },
  {
   "cell_type": "code",
   "execution_count": 38,
   "metadata": {},
   "outputs": [],
   "source": [
    "def shap_mean_explanation_time(model, instances, ground_truth, n_samples=200, r=2):\n",
    "    explanation_times = []\n",
    "    nDCG_scores = []\n",
    "    shap_explainer = ShapExplainer(model, subset_X)\n",
    "    accuracy_scores= []\n",
    "\n",
    "    # shap_explainer = ShapExplainer(model, np.zeros((1, instances.shape[1])))\n",
    "    for i in tqdm(range(n_samples)):\n",
    "        instance = instances[i]\n",
    "        start = time.time()\n",
    "        explanation = shap_explainer.explain_instance(instance, nsamples=int(r* instance.shape[0]))\n",
    "        end = time.time()\n",
    "        explanation_times.append(end-start)\n",
    "        nDCG = nDCG_p(explanation, ground_truth[i])\n",
    "        nDCG_scores.append(nDCG)\n",
    "        accuracy_scores.append(explanation_accuracy(ground_truth[i], explanation.squeeze()))\n",
    "\n",
    "    return np.mean(explanation_times), np.mean(nDCG_scores), np.mean(accuracy_scores)"
   ]
  },
  {
   "cell_type": "code",
   "execution_count": 39,
   "metadata": {},
   "outputs": [
    {
     "data": {
      "application/vnd.jupyter.widget-view+json": {
       "model_id": "df9cea3f850b4774aafd72ab6366ab84",
       "version_major": 2,
       "version_minor": 0
      },
      "text/plain": [
       "  0%|          | 0/200 [00:00<?, ?it/s]"
      ]
     },
     "metadata": {},
     "output_type": "display_data"
    },
    {
     "data": {
      "text/plain": [
       "(1.8338360822200774, 0.5843692278372412, 0.5145176426426427)"
      ]
     },
     "execution_count": 39,
     "metadata": {},
     "output_type": "execute_result"
    }
   ],
   "source": [
    "shap_mean_explanation_time(model, instances, explanations,n_samples=200, r = 1.5)"
   ]
  },
  {
   "cell_type": "code",
   "execution_count": 19,
   "metadata": {},
   "outputs": [
    {
     "data": {
      "application/vnd.jupyter.widget-view+json": {
       "model_id": "bed7213c43ee4dcf992d734251ea2605",
       "version_major": 2,
       "version_minor": 0
      },
      "text/plain": [
       "  0%|          | 0/50 [00:00<?, ?it/s]"
      ]
     },
     "metadata": {},
     "output_type": "display_data"
    },
    {
     "data": {
      "application/vnd.jupyter.widget-view+json": {
       "model_id": "27d2891fa0684d638b78c46877061cd6",
       "version_major": 2,
       "version_minor": 0
      },
      "text/plain": [
       "  0%|          | 0/50 [00:00<?, ?it/s]"
      ]
     },
     "metadata": {},
     "output_type": "display_data"
    },
    {
     "data": {
      "application/vnd.jupyter.widget-view+json": {
       "model_id": "13d2d70c28eb4394acc3e964de2aebb9",
       "version_major": 2,
       "version_minor": 0
      },
      "text/plain": [
       "  0%|          | 0/50 [00:00<?, ?it/s]"
      ]
     },
     "metadata": {},
     "output_type": "display_data"
    },
    {
     "data": {
      "application/vnd.jupyter.widget-view+json": {
       "model_id": "cb090825686f417e9534dfbaf655a0c5",
       "version_major": 2,
       "version_minor": 0
      },
      "text/plain": [
       "  0%|          | 0/50 [00:00<?, ?it/s]"
      ]
     },
     "metadata": {},
     "output_type": "display_data"
    },
    {
     "data": {
      "application/vnd.jupyter.widget-view+json": {
       "model_id": "42723cc3d3f84171acca7d99c79cfd17",
       "version_major": 2,
       "version_minor": 0
      },
      "text/plain": [
       "  0%|          | 0/50 [00:00<?, ?it/s]"
      ]
     },
     "metadata": {},
     "output_type": "display_data"
    },
    {
     "data": {
      "text/plain": [
       "<matplotlib.legend.Legend at 0x7ff45cf90690>"
      ]
     },
     "execution_count": 19,
     "metadata": {},
     "output_type": "execute_result"
    },
    {
     "data": {
      "image/png": "[encoded data removed]",
      "text/plain": [
       "<Figure size 640x480 with 1 Axes>"
      ]
     },
     "metadata": {},
     "output_type": "display_data"
    }
   ],
   "source": [
    "# Compute SHAP mean for different values of r\n",
    "r_values = [1, 2, 3, 4, 5]\n",
    "shap_mean_times = []\n",
    "shap_mean_ndcgs = []\n",
    "for r in r_values:\n",
    "    mean_time, mean_ndcg = shap_mean_explanation_time(model, instances, explanations, n_samples=50, r=r)\n",
    "    shap_mean_times.append(mean_time)\n",
    "    shap_mean_ndcgs.append(mean_ndcg)\n",
    "\n",
    "# Plot \n",
    "plt.plot(r_values, shap_mean_times, label=\"SHAP\")\n",
    "plt.xlabel(\"r\")\n",
    "plt.ylabel(\"Mean explanation time\")\n",
    "plt.legend()"
   ]
  },
  {
   "cell_type": "code",
   "execution_count": null,
   "metadata": {},
   "outputs": [],
   "source": [
    "score = model.predict_score(dataset[\"X_test\"], device='cuda:0' if torch.cuda.is_available() else 'cpu')\n",
    "dataset[\"y_test\"][dataset[\"y_test\"] > 0] = 1\n",
    "metric_df = pd.read_csv(Path(saving_path, \"model_metrics.csv\"))\n",
    "force_rerun = cfg.force_rerun\n",
    "indices = np.arange(len(dataset[\"y_test\"]))\n",
    "# Suppose we know how much anomaly are in the dataset\n",
    "y_pred = low_density_anomalies(-score, len(indices[dataset[\"y_test\"] == 1]))\n",
    "samples_indices = np.arange(len(dataset[\"X_test\"]))[y_pred == 1]\n",
    "samples = dataset[\"X_test\"][samples_indices]\n",
    "expected_explanation = dataset[\"explanation_test\"][samples_indices]\n",
    "labels = dataset[\"y_test\"][samples_indices]\n",
    "\n"
   ]
  }
 ],
 "metadata": {
  "kernelspec": {
   "display_name": "venv",
   "language": "python",
   "name": "python3"
  },
  "language_info": {
   "codemirror_mode": {
    "name": "ipython",
    "version": 3
   },
   "file_extension": ".py",
   "mimetype": "text/x-python",
   "name": "python",
   "nbconvert_exporter": "python",
   "pygments_lexer": "ipython3",
   "version": "3.11.2"
  }
 },
 "nbformat": 4,
 "nbformat_minor": 2
}
